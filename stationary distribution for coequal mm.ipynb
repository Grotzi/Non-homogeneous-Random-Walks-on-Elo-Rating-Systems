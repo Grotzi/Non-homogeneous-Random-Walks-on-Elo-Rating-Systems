{
 "cells": [
  {
   "cell_type": "code",
   "execution_count": 67,
   "metadata": {},
   "outputs": [],
   "source": [
    "import scipy.sparse.linalg\n",
    "import numpy as np\n",
    "import matplotlib as plt\n",
    "import seaborn as sns\n",
    "import math\n",
    "import pandas as pd\n",
    "from scipy.special import kolmogorov\n",
    "from scipy.stats import kstwobign, norm, lognorm"
   ]
  },
  {
   "cell_type": "code",
   "execution_count": 68,
   "metadata": {},
   "outputs": [],
   "source": [
    "# contructs transition matrix\n",
    "def transitionmat(n: int, k: int, dist: str):\n",
    "    tmat = np.zeros((2*n+1,2*n+1))\n",
    "    for i in range (2*n+1):\n",
    "        ind = k/2 * (i - (2*n)/2)\n",
    "        if i==0:\n",
    "            tmat[i,i+1] = 1 /(1+10**((ind)/400))\n",
    "            tmat[i,i] = 1 /(1+10**((-ind)/400))\n",
    "        elif i==(2*n):\n",
    "            tmat[i,i] = 1 /(1+10**((ind)/400))\n",
    "            tmat[i,i-1] = 1 /(1+10**((-ind)/400))\n",
    "        else:\n",
    "            tmat[i,i+1] = 1 /(1+10**((ind)/400))\n",
    "            tmat[i,i-1] = 1 /(1+10**((-ind)/400))\n",
    "    return tmat"
   ]
  },
  {
   "cell_type": "code",
   "execution_count": 69,
   "metadata": {},
   "outputs": [],
   "source": [
    "# computes stationary distribution through left eigenvector with eigenvalue 1\n",
    "def invdis(tmat, m):\n",
    "    evalues, evectors = np.linalg.eig(tmat.T)\n",
    "    min_ev = np.argmin(abs(evalues - 1))\n",
    "    ev = evectors[:, min_ev]\n",
    "    pi = np.real(ev.T)\n",
    "    return pi/np.sum(pi)"
   ]
  },
  {
   "cell_type": "code",
   "execution_count": 70,
   "metadata": {},
   "outputs": [],
   "source": [
    "# computes stationary distribution approx through least squares solving pi.T P = pi.T\n",
    "def invdis_ls(tmat, m):\n",
    "    idmat = (tmat - scipy.sparse.eye(m))\n",
    "    lhs = scipy.sparse.vstack((idmat.T, np.ones((1,m))))\n",
    "    v = np.zeros(m+1)\n",
    "    v[m] = 1\n",
    "    return scipy.sparse.linalg.lsqr(lhs, v)[0]"
   ]
  },
  {
   "cell_type": "code",
   "execution_count": 157,
   "metadata": {},
   "outputs": [],
   "source": [
    "# plots discrete distribution on given interval\n",
    "def plot(pi, n: int, s:int):\n",
    "    inv = np.zeros((2*n+1,2))\n",
    "    si = abs(int(np.rint((2*n+1-s)/2)))\n",
    "    for i in range(2*n+1):\n",
    "        inv[i,0]=k/2* (i - (2*n)/2)\n",
    "        inv[i,1]=pi[i]\n",
    "    sns.set_style(\"darkgrid\")\n",
    "    plt.pyplot.figure(figsize=(10,6))\n",
    "    pl = sns.barplot(y=inv[si:2*n+1-si,1],x=inv[si:2*n+1-si,0],  color=\"#0070B8\")\n",
    "    pl.set_xlabel(\"state\", fontsize = 14)\n",
    "    pl.set_ylabel(\"$\\pi_i$\", fontsize = 14)\n",
    "    plt.pyplot.show()"
   ]
  },
  {
   "cell_type": "code",
   "execution_count": 81,
   "metadata": {},
   "outputs": [],
   "source": [
    "# compute variance of stat. dis.\n",
    "def n_variance(p, n, k):\n",
    "    v = 0\n",
    "    for i in range(n*2+1):\n",
    "        v += p[i] * (k/2* (i - (2*n)/2))**2\n",
    "    return v"
   ]
  },
  {
   "cell_type": "code",
   "execution_count": 74,
   "metadata": {},
   "outputs": [],
   "source": [
    "# converts discrete distribution to pandas dataframe with index of state\n",
    "def dframe(pi, n:int):\n",
    "    ind = np.zeros(2*n+1)\n",
    "    for i in range (2*n+1):\n",
    "        ind[i] = (i - (2*n)/2)\n",
    "    d =  {'state': ind*k, 'pi': pi}\n",
    "    return pd.DataFrame(data=d)"
   ]
  },
  {
   "cell_type": "code",
   "execution_count": 410,
   "metadata": {},
   "outputs": [
    {
     "data": {
      "image/png": "[encoded data removed]",
      "text/plain": [
       "<Figure size 720x432 with 1 Axes>"
      ]
     },
     "metadata": {},
     "output_type": "display_data"
    },
    {
     "name": "stdout",
     "output_type": "stream",
     "text": [
      "Wall time: 482 ms\n"
     ]
    }
   ],
   "source": [
    "%%time\n",
    "#Example step by step: set params, compute matrix, compute pi, plot\n",
    "n = 128\n",
    "k = 32\n",
    "tmat = transitionmat(n, k, \"uni\")\n",
    "pi = invdis(tmat, 2*n+1)\n",
    "pi_ls = invdis_ls(tmat, 2*n+1)\n",
    "plot(pi, n, 16)"
   ]
  },
  {
   "cell_type": "code",
   "execution_count": 60,
   "metadata": {},
   "outputs": [
    {
     "name": "stdout",
     "output_type": "stream",
     "text": [
      "state = -48.000000, val = 0.079832\n",
      "state = -32.000000, val = 0.099974\n",
      "state = -16.000000, val = 0.114422\n",
      "state = 0.000000, val = 0.119687\n",
      "state = 16.000000, val = 0.114422\n",
      "state = 32.000000, val = 0.099974\n",
      "state = 48.000000, val = 0.079832\n",
      "state = 64.000000, val = 0.058261\n",
      "state = 80.000000, val = 0.038856\n",
      "state = 96.000000, val = 0.023682\n",
      "state = 112.000000, val = 0.013190\n",
      "state = 128.000000, val = 0.006712\n",
      "state = 144.000000, val = 0.003121\n",
      "state = 160.000000, val = 0.001326\n",
      "state = 176.000000, val = 0.000515\n",
      "state = 192.000000, val = 0.000182\n",
      "state = 208.000000, val = 0.000059\n",
      "state = 224.000000, val = 0.000017\n",
      "state = 240.000000, val = 0.000005\n",
      "state = 256.000000, val = 0.000001\n"
     ]
    }
   ],
   "source": [
    "for n_range in range(0,20,1):\n",
    "    print('state = %f, val = %f' % ((n_range-3)*16, pi[n_range+n-3]))"
   ]
  },
  {
   "cell_type": "code",
   "execution_count": null,
   "metadata": {},
   "outputs": [],
   "source": [
    "%%time # time benchmarks?\n",
    "#n = 100 #tmat = transitionmat(n, 32, \"uni\") #pi = invdis(tmat, 2*n+1)"
   ]
  },
  {
   "cell_type": "code",
   "execution_count": 141,
   "metadata": {},
   "outputs": [
    {
     "name": "stdout",
     "output_type": "stream",
     "text": [
      "var = 2843.484685 , with std = 53.324335\n"
     ]
    }
   ],
   "source": [
    "k = 32\n",
    "n = 256\n",
    "tmat = transitionmat(n, k, \"uni\")\n",
    "pi = invdis(tmat, (2*n+1))\n",
    "v = n_variance(pi,n,k)\n",
    "print('var = %f , with std = %f' % (v, np.sqrt(v)))"
   ]
  },
  {
   "cell_type": "code",
   "execution_count": 86,
   "metadata": {
    "scrolled": true
   },
   "outputs": [
    {
     "name": "stdout",
     "output_type": "stream",
     "text": [
      "k value = 2.000000 , with Std = 13.189685\n",
      "k value = 4.000000 , with Std = 18.666429\n",
      "k value = 8.000000 , with Std = 26.436172\n",
      "k value = 16.000000 , with Std = 37.493231\n",
      "k value = 32.000000 , with Std = 53.324335\n",
      "k value = 64.000000 , with Std = 76.255946\n",
      "k value = 128.000000 , with Std = 110.190466\n",
      "k value = 256.000000 , with Std = 162.271000\n",
      "k value = 512.000000 , with Std = 246.696948\n"
     ]
    }
   ],
   "source": [
    "n = 256\n",
    "for i in range(1,10,1):\n",
    "    tmat = transitionmat(n, (2**i), \"uni\")\n",
    "    pi = invdis(tmat, (2*n+1))\n",
    "    v = n_variance(pi,n, 2**i)\n",
    "    #var = getvar((2**k_i),n)\n",
    "    print('k value = %f , with Std = %f' % (2**i, np.sqrt(v)))"
   ]
  },
  {
   "cell_type": "code",
   "execution_count": 85,
   "metadata": {},
   "outputs": [
    {
     "name": "stdout",
     "output_type": "stream",
     "text": [
      "k value = 2.000000 , with Std = 13.189685\n",
      "k value = 4.000000 , with Std = 18.666429\n",
      "k value = 8.000000 , with Std = 26.436172\n",
      "k value = 16.000000 , with Std = 37.493231\n",
      "k value = 32.000000 , with Std = 53.324335\n",
      "k value = 64.000000 , with Std = 76.255946\n",
      "k value = 128.000000 , with Std = 110.190466\n",
      "k value = 256.000000 , with Std = 162.271000\n",
      "k value = 512.000000 , with Std = 246.696948\n"
     ]
    }
   ],
   "source": [
    "n = 128\n",
    "for i in range(1,10,1):\n",
    "    tmat = transitionmat(n, (2**i), \"uni\")\n",
    "    pi = invdis(tmat, (2*n+1))\n",
    "    v = n_variance(pi,n, 2**i)\n",
    "    #var = getvar((2**k_i),n)\n",
    "    print('k value = %f , with Std = %f' % (2**i, np.sqrt(v)))"
   ]
  },
  {
   "cell_type": "code",
   "execution_count": 162,
   "metadata": {
    "scrolled": true
   },
   "outputs": [
    {
     "name": "stdout",
     "output_type": "stream",
     "text": [
      "n value = 2.000000 , with var = 58195.708011\n",
      "n value = 3.000000 , with var = 60801.459306\n",
      "n value = 4.000000 , with var = 60859.130855\n",
      "n value = 5.000000 , with var = 60859.383997\n",
      "n value = 6.000000 , with var = 60859.384230\n",
      "n value = 7.000000 , with var = 60859.384230\n",
      "n value = 8.000000 , with var = 60859.384230\n",
      "n value = 9.000000 , with var = 60859.384230\n",
      "n value = 10.000000 , with var = 60859.384230\n",
      "n value = 11.000000 , with var = 60859.384230\n",
      "n value = 12.000000 , with var = 60859.384230\n",
      "n value = 13.000000 , with var = 60859.384230\n",
      "n value = 14.000000 , with var = 60859.384230\n",
      "n value = 15.000000 , with var = 60859.384230\n",
      "n value = 16.000000 , with var = 60859.384230\n",
      "n value = 17.000000 , with var = 60859.384230\n",
      "n value = 18.000000 , with var = 60859.384230\n",
      "n value = 19.000000 , with var = 60859.384230\n"
     ]
    }
   ],
   "source": [
    "for n_range in range(2,20,1):\n",
    "    print('n value = %f , with var = %f' % (n_range, getvar(512,n_range)))"
   ]
  },
  {
   "cell_type": "code",
   "execution_count": 142,
   "metadata": {
    "scrolled": true
   },
   "outputs": [
    {
     "name": "stdout",
     "output_type": "stream",
     "text": [
      "k value = 2.000000 , with Std = 13.189685 , var = 173.967793\n",
      "MaxGap = 0.015123, At Elo state 0.000000, relative gap: 0.030247\n",
      "0.015123260007103116\n",
      "k value = 4.000000 , with Std = 18.666429 , var = 348.435586\n",
      "MaxGap = 0.021372, At Elo state 0.000000, relative gap: 0.042744\n",
      "0.0213721353875297\n",
      "k value = 8.000000 , with Std = 26.436172 , var = 698.871171\n",
      "MaxGap = 0.030181, At Elo state 0.000000, relative gap: 0.060363\n",
      "0.03018129807398781\n",
      "k value = 16.000000 , with Std = 37.493231 , var = 1405.742342\n",
      "MaxGap = 0.042560, At Elo state 0.000000, relative gap: 0.085120\n",
      "0.04256012671669488\n",
      "k value = 32.000000 , with Std = 53.324335 , var = 2843.484684\n",
      "MaxGap = 0.059844, At Elo state 0.000000, relative gap: 0.119687\n",
      "0.05984362738790455\n",
      "k value = 64.000000 , with Std = 76.255946 , var = 5814.969368\n",
      "MaxGap = 0.083663, At Elo state 0.000000, relative gap: 0.167326\n",
      "0.08366289876409025\n",
      "k value = 128.000000 , with Std = 110.190466 , var = 12141.938737\n",
      "MaxGap = 0.115624, At Elo state 0.000000, relative gap: 0.231248\n",
      "0.11562397768005013\n",
      "k value = 256.000000 , with Std = 162.271000 , var = 26331.877479\n",
      "MaxGap = 0.156158, At Elo state 0.000000, relative gap: 0.312315\n",
      "0.15615752017818563\n",
      "k value = 512.000000 , with Std = 246.696948 , var = 60859.384230\n",
      "MaxGap = 0.201409, At Elo state 0.000000, relative gap: 0.402818\n",
      "0.2014091629210047\n"
     ]
    }
   ],
   "source": [
    "n = 128\n",
    "for i in range(1,10,1):\n",
    "    k = 2**i\n",
    "    tmat = transitionmat(n, (2**i), \"uni\")\n",
    "    pi = invdis(tmat, (2*n+1))\n",
    "    v = n_variance(pi,n, 2**i)\n",
    "    e_cdf = np.cumsum(pi)\n",
    "    x = np.linspace(-(k/2)*n,(k/2)*n,n*2+1)\n",
    "    n_pdf = np.array([norm(0,np.sqrt(v)).pdf(i) for i in x])\n",
    "    n_cdf = np.array([norm(0,np.sqrt(v)).cdf(i) for i in x])\n",
    "    max_gap = np.max(np.abs((e_cdf-n_cdf)))\n",
    "    arg_max = np.argmax(np.abs(e_cdf-n_cdf))\n",
    "    print('k value = %f , with Std = %f , var = %f' % (2**i, np.sqrt(v), v))\n",
    "    print('MaxGap = %f, At Elo state %f, relative gap: %f' % (max_gap, k/2 * (arg_max - (2*n)/2), (max_gap/n_cdf[arg_max])))\n",
    "    print(pi[n]/2)"
   ]
  },
  {
   "cell_type": "code",
   "execution_count": 426,
   "metadata": {
    "scrolled": true
   },
   "outputs": [
    {
     "data": {
      "text/plain": [
       "array([[  8.        ,  26.43617164],\n",
       "       [ 16.        ,  37.49323062],\n",
       "       [ 24.        ,  46.05011958],\n",
       "       [ 32.        ,  53.32433482],\n",
       "       [ 40.        ,  59.78591686],\n",
       "       [ 48.        ,  65.67516293],\n",
       "       [ 56.        ,  71.1343672 ],\n",
       "       [ 64.        ,  76.25594645],\n",
       "       [ 72.        ,  81.10388733],\n",
       "       [ 80.        ,  85.72462721],\n",
       "       [ 88.        ,  90.153108  ],\n",
       "       [ 96.        ,  94.41638657],\n",
       "       [104.        ,  98.5359083 ],\n",
       "       [112.        , 102.5290027 ],\n",
       "       [120.        , 106.40990351],\n",
       "       [128.        , 110.19046573],\n",
       "       [136.        , 113.88068277],\n",
       "       [144.        , 117.48906791],\n",
       "       [152.        , 121.02294101],\n",
       "       [160.        , 124.48864776],\n",
       "       [168.        , 127.89172996],\n",
       "       [176.        , 131.23705941],\n",
       "       [184.        , 134.5289446 ],\n",
       "       [192.        , 137.77121654],\n",
       "       [200.        , 140.96729861],\n",
       "       [208.        , 144.12026383],\n",
       "       [216.        , 147.23288226],\n",
       "       [224.        , 150.30766045],\n",
       "       [232.        , 153.34687464],\n",
       "       [240.        , 156.35259874],\n",
       "       [248.        , 159.32672815],\n",
       "       [256.        , 162.27100012],\n",
       "       [264.        , 165.18701116],\n",
       "       [272.        , 168.07623223],\n",
       "       [280.        , 170.94002177],\n",
       "       [288.        , 173.77963709],\n",
       "       [296.        , 176.5962444 ],\n",
       "       [304.        , 179.39092753],\n",
       "       [312.        , 182.16469567],\n",
       "       [320.        , 184.91849019],\n",
       "       [328.        , 187.65319073],\n",
       "       [336.        , 190.36962058],\n",
       "       [344.        , 193.06855153],\n",
       "       [352.        , 195.7507082 ],\n",
       "       [360.        , 198.41677195],\n",
       "       [368.        , 201.06738442],\n",
       "       [376.        , 203.70315068],\n",
       "       [384.        , 206.32464217],\n",
       "       [392.        , 208.93239936],\n",
       "       [400.        , 211.52693412],\n",
       "       [408.        , 214.108732  ],\n",
       "       [416.        , 216.67825423],\n",
       "       [424.        , 219.2359396 ],\n",
       "       [432.        , 221.78220626],\n",
       "       [440.        , 224.31745324],\n",
       "       [448.        , 226.84206204],\n",
       "       [456.        , 229.35639792],\n",
       "       [464.        , 231.86081129],\n",
       "       [472.        , 234.35563883],\n",
       "       [480.        , 236.84120462],\n",
       "       [488.        , 239.31782124],\n",
       "       [496.        , 241.78579065],\n",
       "       [504.        , 244.24540514],\n",
       "       [512.        , 246.69694816]])"
      ]
     },
     "execution_count": 426,
     "metadata": {},
     "output_type": "execute_result"
    }
   ],
   "source": [
    "r = 64\n",
    "std_mat = np.zeros((r,2))\n",
    "n = 128\n",
    "for i in range(0,r,1):\n",
    "    k = (i+1)*8\n",
    "    tmat = transitionmat(n, (k), \"uni\")\n",
    "    pi = invdis(tmat, (2*n+1))\n",
    "    v = n_variance(pi,n,k)\n",
    "    std_mat[i,0] = k\n",
    "    std_mat[i,1] = np.sqrt(v)\n",
    "std_mat"
   ]
  },
  {
   "cell_type": "code",
   "execution_count": 310,
   "metadata": {
    "scrolled": false
   },
   "outputs": [
    {
     "data": {
      "image/png": "[encoded data removed]",
      "text/plain": [
       "<Figure size 720x432 with 1 Axes>"
      ]
     },
     "metadata": {},
     "output_type": "display_data"
    }
   ],
   "source": [
    "#plt.pyplot.plot(std_mat[:,1])\n",
    "sns.set_style(\"darkgrid\")\n",
    "plt.pyplot.figure(figsize=(10,6))\n",
    "pl = sns.lineplot(x = std_mat[:,0], y=std_mat[:,1], color=\"#0070B8\")\n",
    "pl.set_xlabel(\"k\", fontsize = 14)\n",
    "pl.set_ylabel(\"$\\sigma$\", fontsize = 14)\n",
    "plt.pyplot.show()\n",
    "#sns.lineplot(x = std_mat[:,0], y=std_mat[:,1])"
   ]
  },
  {
   "cell_type": "code",
   "execution_count": 418,
   "metadata": {},
   "outputs": [],
   "source": [
    "from sklearn.linear_model import TweedieRegressor\n",
    "from sklearn.preprocessing import PolynomialFeatures\n",
    "from scipy.optimize import curve_fit"
   ]
  },
  {
   "cell_type": "code",
   "execution_count": 475,
   "metadata": {},
   "outputs": [],
   "source": [
    "def func(x, a, b, c, d):\n",
    "    return a * x + b * x**c + d\n",
    "\n",
    "x = std_mat[:,0]\n",
    "y = std_mat[:,1]\n",
    "\n",
    "popt, pcov = curve_fit(func, x, y)"
   ]
  },
  {
   "cell_type": "code",
   "execution_count": 476,
   "metadata": {},
   "outputs": [
    {
     "data": {
      "text/plain": [
       "array([ 0.18119483, 14.63231911,  0.38507113, -7.8800847 ])"
      ]
     },
     "execution_count": 476,
     "metadata": {},
     "output_type": "execute_result"
    }
   ],
   "source": [
    "popt"
   ]
  },
  {
   "cell_type": "code",
   "execution_count": 477,
   "metadata": {
    "scrolled": true
   },
   "outputs": [
    {
     "data": {
      "image/png": "[encoded data removed]",
      "text/plain": [
       "<Figure size 720x432 with 1 Axes>"
      ]
     },
     "metadata": {},
     "output_type": "display_data"
    }
   ],
   "source": [
    "sns.set_style(\"darkgrid\")\n",
    "plt.pyplot.figure(figsize=(10,6))\n",
    "plt.pyplot.xlabel(\"k\", fontsize = 14)\n",
    "plt.pyplot.ylabel(\"$\\sigma$\", fontsize = 14)\n",
    "plt.pyplot.plot(x, y, 'ko', label=\"$\\sigma$\", markerfacecolor='black', alpha=0.7)\n",
    "plt.pyplot.plot(x, func(x, * popt), '#C21E56', label=\"fitted $f(k)$\")\n",
    "plt.pyplot.legend(fontsize = 12)\n",
    "plt.pyplot.show()"
   ]
  },
  {
   "cell_type": "code",
   "execution_count": 478,
   "metadata": {},
   "outputs": [
    {
     "data": {
      "text/plain": [
       "245.35645720803166"
      ]
     },
     "execution_count": 478,
     "metadata": {},
     "output_type": "execute_result"
    }
   ],
   "source": [
    "k = 512\n",
    "0.09883696*k+ 8.60690081*np.sqrt(k)"
   ]
  },
  {
   "cell_type": "code",
   "execution_count": 479,
   "metadata": {},
   "outputs": [
    {
     "data": {
      "text/plain": [
       "0.006770112808121363"
      ]
     },
     "execution_count": 479,
     "metadata": {},
     "output_type": "execute_result"
    }
   ],
   "source": [
    "loss = (func(std_mat[:,0], *popt) - std_mat[:,1])**2\n",
    "sum(loss)/64"
   ]
  },
  {
   "cell_type": "code",
   "execution_count": 483,
   "metadata": {},
   "outputs": [
    {
     "data": {
      "text/plain": [
       "0.27799697561197334"
      ]
     },
     "execution_count": 483,
     "metadata": {},
     "output_type": "execute_result"
    }
   ],
   "source": [
    "np.max(abs(np.sqrt(loss)))"
   ]
  },
  {
   "cell_type": "code",
   "execution_count": 484,
   "metadata": {},
   "outputs": [
    {
     "data": {
      "text/plain": [
       "0"
      ]
     },
     "execution_count": 484,
     "metadata": {},
     "output_type": "execute_result"
    }
   ],
   "source": [
    "np.argmax(abs(loss))"
   ]
  },
  {
   "cell_type": "code",
   "execution_count": 372,
   "metadata": {},
   "outputs": [
    {
     "data": {
      "text/plain": [
       "2.2891752114603174"
      ]
     },
     "execution_count": 372,
     "metadata": {},
     "output_type": "execute_result"
    }
   ],
   "source": [
    "loss[2]"
   ]
  },
  {
   "cell_type": "code",
   "execution_count": 368,
   "metadata": {},
   "outputs": [
    {
     "data": {
      "text/plain": [
       "245.3564570422407"
      ]
     },
     "execution_count": 368,
     "metadata": {},
     "output_type": "execute_result"
    }
   ],
   "source": [
    "func(512,*popt)"
   ]
  },
  {
   "cell_type": "code",
   "execution_count": 509,
   "metadata": {
    "scrolled": true
   },
   "outputs": [
    {
     "name": "stdout",
     "output_type": "stream",
     "text": [
      "Var = 730.412877, Std = 27.026152\n"
     ]
    },
    {
     "data": {
      "text/plain": [
       "730.4128771474542"
      ]
     },
     "execution_count": 509,
     "metadata": {},
     "output_type": "execute_result"
    }
   ],
   "source": [
    "k = 2\n",
    "n = int(512/k)\n",
    "tmat = transitionmat(n, k, \"uni\")\n",
    "pi = invdis(tmat, 2*n+1)\n",
    "pi_ls = invdis_ls(tmat, 2*n+1)\n",
    "\n",
    "v = n_variance(pi_ls,n, k)\n",
    "e_cdf = np.cumsum(pi)\n",
    "x = np.linspace(-(k/2)*n,(k/2)*n,n*2+1)\n",
    "n_pdf = np.array([norm(0,np.sqrt(v)).pdf(i) for i in x])\n",
    "n_cdf = np.array([norm(0,np.sqrt(v)).cdf(i) for i in x])\n",
    "print('Var = %f, Std = %f' % (v, np.sqrt(v)))\n",
    "v"
   ]
  },
  {
   "cell_type": "code",
   "execution_count": 388,
   "metadata": {},
   "outputs": [
    {
     "name": "stdout",
     "output_type": "stream",
     "text": [
      "MaxGap = 0.059844, At Elo state 0.000000, relative gap: 0.119687\n"
     ]
    }
   ],
   "source": [
    "max_gap = np.max(np.abs((e_cdf-n_cdf)))\n",
    "arg_max = np.argmax(np.abs(e_cdf-n_cdf))\n",
    "print('MaxGap = %f, At Elo state %f, relative gap: %f' % (max_gap, k/2 * (arg_max - (2*n)/2), (max_gap/n_cdf[arg_max])))"
   ]
  },
  {
   "cell_type": "code",
   "execution_count": 389,
   "metadata": {
    "scrolled": true
   },
   "outputs": [
    {
     "name": "stdout",
     "output_type": "stream",
     "text": [
      "MaxGap = 0.059844, At Elo state 0.000000, relative gap: 0.119687\n"
     ]
    }
   ],
   "source": [
    "max_gap = np.max(np.abs((e_cdf-n_cdf)))\n",
    "arg_max = np.argmax(np.abs(e_cdf-n_cdf))\n",
    "print('MaxGap = %f, At Elo state %f, relative gap: %f' % (max_gap, k/2 * (arg_max - (2*n)/2), (max_gap/n_cdf[arg_max])))"
   ]
  },
  {
   "cell_type": "code",
   "execution_count": 401,
   "metadata": {},
   "outputs": [
    {
     "data": {
      "text/plain": [
       "[]"
      ]
     },
     "execution_count": 401,
     "metadata": {},
     "output_type": "execute_result"
    },
    {
     "data": {
      "image/png": "[encoded data removed]",
      "text/plain": [
       "<Figure size 720x432 with 1 Axes>"
      ]
     },
     "metadata": {},
     "output_type": "display_data"
    }
   ],
   "source": [
    "fig, ax = plt.pyplot.subplots(figsize=(10,6))\n",
    "sns.set_style(\"darkgrid\")\n",
    "ax.set_xlabel(\"state\", fontsize = 14)\n",
    "ax.set_ylabel(\"$F$\", fontsize = 14)\n",
    "plt.pyplot.xlim([-256, 256])\n",
    "ax.plot(x, e_cdf,'#0070B8', lw=1, alpha=0.8, label='$\\pi$ cdf')\n",
    "ax.plot(x, n_cdf,'#C21E56', lw=1, alpha=0.8, label='norm cdf')\n",
    "plt.pyplot.legend()\n",
    "plt.pyplot.plot()"
   ]
  },
  {
   "cell_type": "code",
   "execution_count": null,
   "metadata": {},
   "outputs": [],
   "source": []
  }
 ],
 "metadata": {
  "kernelspec": {
   "display_name": "Python 3",
   "language": "python",
   "name": "python3"
  },
  "language_info": {
   "codemirror_mode": {
    "name": "ipython",
    "version": 3
   },
   "file_extension": ".py",
   "mimetype": "text/x-python",
   "name": "python",
   "nbconvert_exporter": "python",
   "pygments_lexer": "ipython3",
   "version": "3.8.0"
  }
 },
 "nbformat": 4,
 "nbformat_minor": 4
}
