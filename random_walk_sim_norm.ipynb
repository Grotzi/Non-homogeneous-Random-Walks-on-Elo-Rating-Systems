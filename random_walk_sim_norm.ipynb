{
 "cells": [
  {
   "cell_type": "code",
   "execution_count": 2,
   "metadata": {},
   "outputs": [],
   "source": [
    "import random\n",
    "import matplotlib as plt\n",
    "import seaborn as sns\n",
    "import numpy\n",
    "import scipy.sparse.linalg\n",
    "from scipy.stats import norm, lognorm\n",
    "import math\n",
    "import pandas as pd\n",
    "import numpy as np"
   ]
  },
  {
   "cell_type": "code",
   "execution_count": 3,
   "metadata": {},
   "outputs": [],
   "source": [
    "trueelo_a = 0 # default 0\n",
    "trueelo_b = 0 # default 0"
   ]
  },
  {
   "cell_type": "code",
   "execution_count": 4,
   "metadata": {},
   "outputs": [],
   "source": [
    "# variant for symmetric random walk\n",
    "def a_win_binary(trueelo_a, trueelo_b):\n",
    "    r_a = random.randint(0,1)\n",
    "    return r_a"
   ]
  },
  {
   "cell_type": "code",
   "execution_count": 5,
   "metadata": {},
   "outputs": [],
   "source": [
    "# win probability fct. with noise\n",
    "def a_win_ran(trueelo_a, trueelo_b, var):\n",
    "    Ex_a = 1 /(1+10**((trueelo_b-trueelo_a+np.random.normal(0, var))/400))\n",
    "    if (random.uniform(0,1) < Ex_a):\n",
    "        r_a = 1\n",
    "    else: r_a = 0\n",
    "    return r_a"
   ]
  },
  {
   "cell_type": "code",
   "execution_count": 6,
   "metadata": {},
   "outputs": [],
   "source": [
    "# win probability fct\n",
    "def a_win(trueelo_a, trueelo_b):\n",
    "    Ex_a = 1 /(1+10**((trueelo_b+random.uniform(0,1)-trueelo_a)/400))\n",
    "    if (random.uniform(0,1) < Ex_a):\n",
    "        r_a = 1\n",
    "    else: r_a = 0\n",
    "    return r_a"
   ]
  },
  {
   "cell_type": "code",
   "execution_count": 7,
   "metadata": {},
   "outputs": [],
   "source": [
    "# update fct\n",
    "def elo_update(e_a, e_b, w_a):\n",
    "    Ex_a = 1 /(1+10**((e_b-e_a)/400))\n",
    "    Ex_b = 1 /(1+10**((e_a-e_b)/400))\n",
    "    e_a = e_a + k*(w_a - Ex_a)\n",
    "    e_b = e_b + k*(1 - w_a - Ex_b)\n",
    "    return e_a, e_b"
   ]
  },
  {
   "cell_type": "code",
   "execution_count": 8,
   "metadata": {},
   "outputs": [],
   "source": [
    "# plots pdf\n",
    "def plot_line(pi, n:int, c:int):\n",
    "    ind = np.zeros(2*n+1)\n",
    "    for i in range (2*n+1):\n",
    "        ind[i] = (i - (2*n)/2)\n",
    "    d =  {'state': ind, 'pi': pi}\n",
    "    sns.set_style(\"darkgrid\")\n",
    "    plt.pyplot.figure(figsize=(10,6))\n",
    "    pl = sns.lineplot(data=d, x='state', y='pi')\n",
    "    pl.set(xlim=(-c/2-1, c/2+1))\n",
    "    pl.set_xlabel(\"state\", fontsize = 14)\n",
    "    pl.set_ylabel(\"$\\pi$\", fontsize = 14)\n",
    "    plt.pyplot.show()"
   ]
  },
  {
   "cell_type": "code",
   "execution_count": 9,
   "metadata": {},
   "outputs": [],
   "source": [
    "# simulates process with given s_a, i, mm\n",
    "def elo_walk(s_a: int, i:int, mm: str):\n",
    "    elo_walk = [0]*it\n",
    "    for i in range(0,it-1):\n",
    "        if mm == 'ce':\n",
    "            w = a_win(trueelo_a, elo_walk[i])\n",
    "            e_a, e_b = elo_update(elo_walk[i], elo_walk[i], w)\n",
    "        elo_walk[i+1] = e_a\n",
    "    return elo_walk"
   ]
  },
  {
   "cell_type": "code",
   "execution_count": 10,
   "metadata": {},
   "outputs": [],
   "source": [
    "# simulates process with given s_a, i, mm and noise factors\n",
    "def elo_walk_ran(s_a: int, i:int, v_e: int, v_g: int):\n",
    "    elo_walk = [0]*it\n",
    "    for i in range(0,it-1):\n",
    "        w = a_win_ran(trueelo_a, elo_walk[i], v_g)\n",
    "        e_a, e_b = elo_update(elo_walk[i], elo_walk[i] + np.random.normal(0,v_e), w)\n",
    "        elo_walk[i+1] = np.rint(e_a)\n",
    "    return elo_walk"
   ]
  },
  {
   "cell_type": "code",
   "execution_count": 11,
   "metadata": {},
   "outputs": [],
   "source": [
    "# compute variance of stat. dis.\n",
    "def n_variance(values, count):\n",
    "    v = 0\n",
    "    for i in range(len(values)):\n",
    "        v += count[i] * values[i]**2\n",
    "    return v / sum(count)"
   ]
  },
  {
   "cell_type": "code",
   "execution_count": 13,
   "metadata": {
    "scrolled": true
   },
   "outputs": [
    {
     "name": "stderr",
     "output_type": "stream",
     "text": [
      "c:\\users\\grotzi\\appdata\\local\\programs\\python\\python38\\lib\\site-packages\\seaborn\\distributions.py:2557: FutureWarning: `distplot` is a deprecated function and will be removed in a future version. Please adapt your code to use either `displot` (a figure-level function with similar flexibility) or `histplot` (an axes-level function for histograms).\n",
      "  warnings.warn(msg, FutureWarning)\n"
     ]
    },
    {
     "name": "stdout",
     "output_type": "stream",
     "text": [
      "Wall time: 316 ms\n"
     ]
    },
    {
     "data": {
      "image/png": "[encoded data removed]",
      "text/plain": [
       "<Figure size 864x432 with 1 Axes>"
      ]
     },
     "metadata": {
      "needs_background": "light"
     },
     "output_type": "display_data"
    }
   ],
   "source": [
    "%%time\n",
    "# example\n",
    "\n",
    "k = 32\n",
    "it = 10000\n",
    "ew = elo_walk_ran(0, it, 256, 256)\n",
    "plt.pyplot.figure(figsize=(12,6))\n",
    "sns.distplot(ew)\n",
    "values, counts = np.unique(ew, return_counts=True)"
   ]
  },
  {
   "cell_type": "code",
   "execution_count": 14,
   "metadata": {},
   "outputs": [
    {
     "data": {
      "text/plain": [
       "67.39720023858558"
      ]
     },
     "execution_count": 14,
     "metadata": {},
     "output_type": "execute_result"
    }
   ],
   "source": [
    "e_cdf = np.cumsum(counts) / it\n",
    "l = len(values)\n",
    "m = min(values)\n",
    "v = n_variance(values, counts)\n",
    "#v = 4000\n",
    "x = np.linspace(m,max(values),l)\n",
    "#n_pdf = np.array([norm(0,np.sqrt(v)).pdf(i) for i in x])\n",
    "n_cdf = np.array([norm(0,np.sqrt(v)).cdf(i) for i in x])\n",
    "np.sqrt(v)"
   ]
  },
  {
   "cell_type": "code",
   "execution_count": 15,
   "metadata": {
    "scrolled": true
   },
   "outputs": [
    {
     "data": {
      "text/plain": [
       "[]"
      ]
     },
     "execution_count": 15,
     "metadata": {},
     "output_type": "execute_result"
    },
    {
     "data": {
      "image/png": "[encoded data removed]",
      "text/plain": [
       "<Figure size 720x432 with 1 Axes>"
      ]
     },
     "metadata": {
      "needs_background": "light"
     },
     "output_type": "display_data"
    }
   ],
   "source": [
    "fig, ax = plt.pyplot.subplots(figsize=(10,6))\n",
    "sns.set_style(\"darkgrid\")\n",
    "ax.set_xlabel(\"state\", fontsize = 14)\n",
    "ax.set_ylabel(\"$F$\", fontsize = 14)\n",
    "#plt.pyplot.xlim([-64*2, 64*2])\n",
    "ax.plot(values, e_cdf,'#0070B8', lw=1, alpha=0.8, label='$\\pi$ cdf')\n",
    "ax.plot(x, n_cdf,'#C21E56', lw=1, alpha=0.8, label='norm cdf')\n",
    "plt.pyplot.legend()\n",
    "plt.pyplot.plot()"
   ]
  },
  {
   "cell_type": "code",
   "execution_count": 16,
   "metadata": {},
   "outputs": [
    {
     "name": "stdout",
     "output_type": "stream",
     "text": [
      "0.054405195255172845 245 55.0\n"
     ]
    }
   ],
   "source": [
    "max_gap = np.max(np.abs((e_cdf-n_cdf)))\n",
    "arg_max = np.argmax(np.abs(e_cdf-n_cdf))\n",
    "print(max_gap, arg_max, values[arg_max])"
   ]
  },
  {
   "cell_type": "code",
   "execution_count": 17,
   "metadata": {},
   "outputs": [
    {
     "data": {
      "text/plain": [
       "4542.3826"
      ]
     },
     "execution_count": 17,
     "metadata": {},
     "output_type": "execute_result"
    }
   ],
   "source": [
    "v"
   ]
  },
  {
   "cell_type": "code",
   "execution_count": 18,
   "metadata": {},
   "outputs": [
    {
     "data": {
      "text/plain": [
       "0.0002"
      ]
     },
     "execution_count": 18,
     "metadata": {},
     "output_type": "execute_result"
    }
   ],
   "source": [
    "counts[17]/(2*it)"
   ]
  },
  {
   "cell_type": "code",
   "execution_count": 19,
   "metadata": {},
   "outputs": [
    {
     "data": {
      "text/plain": [
       "4542.3826"
      ]
     },
     "execution_count": 19,
     "metadata": {},
     "output_type": "execute_result"
    }
   ],
   "source": [
    "v"
   ]
  },
  {
   "cell_type": "code",
   "execution_count": 20,
   "metadata": {},
   "outputs": [
    {
     "data": {
      "text/plain": [
       "67.39720023858558"
      ]
     },
     "execution_count": 20,
     "metadata": {},
     "output_type": "execute_result"
    }
   ],
   "source": [
    "np.sqrt(v)"
   ]
  },
  {
   "cell_type": "code",
   "execution_count": null,
   "metadata": {},
   "outputs": [],
   "source": []
  }
 ],
 "metadata": {
  "kernelspec": {
   "display_name": "Python 3",
   "language": "python",
   "name": "python3"
  },
  "language_info": {
   "codemirror_mode": {
    "name": "ipython",
    "version": 3
   },
   "file_extension": ".py",
   "mimetype": "text/x-python",
   "name": "python",
   "nbconvert_exporter": "python",
   "pygments_lexer": "ipython3",
   "version": "3.8.0"
  }
 },
 "nbformat": 4,
 "nbformat_minor": 1
}
