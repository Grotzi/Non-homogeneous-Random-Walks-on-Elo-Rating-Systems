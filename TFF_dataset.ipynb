{
 "cells": [
  {
   "cell_type": "code",
   "execution_count": 1,
   "metadata": {},
   "outputs": [],
   "source": [
    "import pandas as pd\n",
    "import numpy as np\n",
    "import csv  \n",
    "import matplotlib.pyplot as plt  \n",
    "import seaborn as sns "
   ]
  },
  {
   "cell_type": "code",
   "execution_count": 2,
   "metadata": {},
   "outputs": [],
   "source": [
    "df_tur_18 = pd.read_csv('tur1718.csv')\n",
    "df_tur_19 = pd.read_csv('tur1819.csv')\n",
    "df_tur_20 = pd.read_csv('tur1920.csv')\n",
    "df_tur = pd.concat([df_tur_18,df_tur_19,df_tur_20])"
   ]
  },
  {
   "cell_type": "code",
   "execution_count": 3,
   "metadata": {
    "scrolled": true
   },
   "outputs": [
    {
     "data": {
      "text/html": [
       "<div>\n",
       "<style scoped>\n",
       "    .dataframe tbody tr th:only-of-type {\n",
       "        vertical-align: middle;\n",
       "    }\n",
       "\n",
       "    .dataframe tbody tr th {\n",
       "        vertical-align: top;\n",
       "    }\n",
       "\n",
       "    .dataframe thead th {\n",
       "        text-align: right;\n",
       "    }\n",
       "</style>\n",
       "<table border=\"1\" class=\"dataframe\">\n",
       "  <thead>\n",
       "    <tr style=\"text-align: right;\">\n",
       "      <th></th>\n",
       "      <th>date</th>\n",
       "      <th>region</th>\n",
       "      <th>league</th>\n",
       "      <th>home</th>\n",
       "      <th>home_oelo</th>\n",
       "      <th>home_nelo</th>\n",
       "      <th>result</th>\n",
       "      <th>home_win</th>\n",
       "      <th>draw</th>\n",
       "      <th>away_win</th>\n",
       "      <th>away</th>\n",
       "      <th>away_oelo</th>\n",
       "      <th>away_nelo</th>\n",
       "    </tr>\n",
       "  </thead>\n",
       "  <tbody>\n",
       "    <tr>\n",
       "      <th>0</th>\n",
       "      <td>2018/05/19</td>\n",
       "      <td>Turkey</td>\n",
       "      <td>Süperlig</td>\n",
       "      <td>Besiktas</td>\n",
       "      <td>1952</td>\n",
       "      <td>1956</td>\n",
       "      <td>5 - 1</td>\n",
       "      <td>77</td>\n",
       "      <td>15</td>\n",
       "      <td>8</td>\n",
       "      <td>Sivasspor</td>\n",
       "      <td>1662</td>\n",
       "      <td>1658</td>\n",
       "    </tr>\n",
       "    <tr>\n",
       "      <th>1</th>\n",
       "      <td>2018/05/19</td>\n",
       "      <td>Turkey</td>\n",
       "      <td>Süperlig</td>\n",
       "      <td>Fenerbahçe</td>\n",
       "      <td>1906</td>\n",
       "      <td>1908</td>\n",
       "      <td>3 - 2</td>\n",
       "      <td>74</td>\n",
       "      <td>17</td>\n",
       "      <td>10</td>\n",
       "      <td>Atiker Konyaspor</td>\n",
       "      <td>1654</td>\n",
       "      <td>1652</td>\n",
       "    </tr>\n",
       "    <tr>\n",
       "      <th>2</th>\n",
       "      <td>2018/05/19</td>\n",
       "      <td>Turkey</td>\n",
       "      <td>Süperlig</td>\n",
       "      <td>Istanbul Basaksehir F.K.</td>\n",
       "      <td>1869</td>\n",
       "      <td>1872</td>\n",
       "      <td>3 - 2</td>\n",
       "      <td>70</td>\n",
       "      <td>19</td>\n",
       "      <td>12</td>\n",
       "      <td>Kasimpasa SK</td>\n",
       "      <td>1661</td>\n",
       "      <td>1658</td>\n",
       "    </tr>\n",
       "    <tr>\n",
       "      <th>3</th>\n",
       "      <td>2018/05/19</td>\n",
       "      <td>Turkey</td>\n",
       "      <td>Süperlig</td>\n",
       "      <td>Göztepe</td>\n",
       "      <td>1608</td>\n",
       "      <td>1602</td>\n",
       "      <td>0 - 1</td>\n",
       "      <td>22</td>\n",
       "      <td>26</td>\n",
       "      <td>53</td>\n",
       "      <td>Galatasaray</td>\n",
       "      <td>1861</td>\n",
       "      <td>1867</td>\n",
       "    </tr>\n",
       "    <tr>\n",
       "      <th>4</th>\n",
       "      <td>2018/05/19</td>\n",
       "      <td>Turkey</td>\n",
       "      <td>1. Lig</td>\n",
       "      <td>Gaziantep FK(as Gazisehir Gaziantep FK)</td>\n",
       "      <td>1533</td>\n",
       "      <td>1532</td>\n",
       "      <td>0 - 0</td>\n",
       "      <td>38</td>\n",
       "      <td>29</td>\n",
       "      <td>33</td>\n",
       "      <td>BB Erzurumspor</td>\n",
       "      <td>1509</td>\n",
       "      <td>1510</td>\n",
       "    </tr>\n",
       "  </tbody>\n",
       "</table>\n",
       "</div>"
      ],
      "text/plain": [
       "         date  region     league                                     home  \\\n",
       "0  2018/05/19  Turkey  Süperlig                                  Besiktas   \n",
       "1  2018/05/19  Turkey  Süperlig                                Fenerbahçe   \n",
       "2  2018/05/19  Turkey  Süperlig                  Istanbul Basaksehir F.K.   \n",
       "3  2018/05/19  Turkey  Süperlig                                   Göztepe   \n",
       "4  2018/05/19  Turkey    1. Lig   Gaziantep FK(as Gazisehir Gaziantep FK)   \n",
       "\n",
       "   home_oelo  home_nelo result  home_win  draw  away_win              away  \\\n",
       "0       1952       1956  5 - 1        77    15         8         Sivasspor   \n",
       "1       1906       1908  3 - 2        74    17        10  Atiker Konyaspor   \n",
       "2       1869       1872  3 - 2        70    19        12      Kasimpasa SK   \n",
       "3       1608       1602  0 - 1        22    26        53       Galatasaray   \n",
       "4       1533       1532  0 - 0        38    29        33    BB Erzurumspor   \n",
       "\n",
       "   away_oelo  away_nelo  \n",
       "0       1662       1658  \n",
       "1       1654       1652  \n",
       "2       1661       1658  \n",
       "3       1861       1867  \n",
       "4       1509       1510  "
      ]
     },
     "execution_count": 3,
     "metadata": {},
     "output_type": "execute_result"
    }
   ],
   "source": [
    "df_tur.head()"
   ]
  },
  {
   "cell_type": "code",
   "execution_count": 4,
   "metadata": {
    "scrolled": true
   },
   "outputs": [
    {
     "name": "stdout",
     "output_type": "stream",
     "text": [
      "1. Lig                  894\n",
      "Süperlig                873\n",
      "Turkey Cup              154\n",
      "Europa League            55\n",
      "Europa League q.         22\n",
      "Champions League         20\n",
      "Champions League q.       8\n",
      "Turkey Supercup           3\n"
     ]
    }
   ],
   "source": [
    "pd.Series({c: df_tur[\"league\"].unique() for c in df_tur[\"league\"]})\n",
    "vl = df_tur[\"league\"].value_counts()\n",
    "print(vl.to_string())"
   ]
  },
  {
   "cell_type": "code",
   "execution_count": 5,
   "metadata": {},
   "outputs": [
    {
     "name": "stdout",
     "output_type": "stream",
     "text": [
      "                                         id_count\n",
      "Besiktas                                    133.0\n",
      "Galatasaray                                 132.0\n",
      "Fenerbahçe                                  129.0\n",
      "Istanbul Basaksehir F.K.                    128.0\n",
      "Akhisar Belediyespor                        124.0\n",
      "Trabzonspor                                 123.0\n",
      "Yeni Malatyaspor                            111.0\n",
      "BB Erzurumspor                              111.0\n",
      "Alanyaspor                                  111.0\n",
      "Atiker Konyaspor                            109.0\n",
      "Ümraniyespor                                108.0\n",
      "Kayserispor                                 107.0\n",
      "Antalyaspor                                 107.0\n",
      "Giresunspor                                 107.0\n",
      "Boluspor                                    106.0\n",
      "Göztepe                                     106.0\n",
      "Bursaspor                                   106.0\n",
      "Adana Demirspor                             106.0\n",
      "Çaykur Rizespor                             105.0\n",
      "Osmanlispor FK                              105.0\n",
      "Kasimpasa SK                                105.0\n",
      "Adanaspor                                   105.0\n",
      "Istanbulspor                                104.0\n",
      "Sivasspor                                   103.0\n",
      "Gençlerbirligi                              103.0\n",
      "Denizlispor                                 102.0\n",
      "Balikesirspor                               102.0\n",
      "Altinordu FSG                               101.0\n",
      "Eskisehirspor                                98.0\n",
      "MKE Ankaragücü                               97.0\n",
      "Gaziantep FK(as Gazisehir Gaziantep FK)      85.0\n",
      "Hatayspor                                    74.0\n",
      "Karabükspor                                  70.0\n",
      "Altay Izmir                                  69.0\n",
      "Elazigspor                                   68.0\n",
      "Fatih Karagümrük SK                          38.0\n",
      "Samsunspor                                   37.0\n",
      "Manisaspor                                   36.0\n",
      "Afjet Afyonspor                              35.0\n",
      "Gaziantepspor                                34.0\n",
      "Keçiörengücü                                 33.0\n",
      "Menemen Belediyespor                         31.0\n",
      "Gaziantep FK                                 19.0\n",
      "Kahramanmarasspor                             7.0\n",
      "Ankara Demirspor                              5.0\n",
      "Partizan                                      4.0\n",
      "Club Brugge KV                                4.0\n",
      "Bucaspor                                      4.0\n",
      "FK Krasnodar                                  4.0\n",
      "Sevilla FC                                    4.0\n",
      "FC Porto                                      4.0\n",
      "Sporting Braga                                4.0\n",
      "SL Benfica                                    4.0\n",
      "1461 Trabzon                                  3.0\n",
      "Fethiyespor                                   3.0\n",
      "Real Madrid                                   2.0\n",
      "Sariyer SK                                    2.0\n",
      "Sarpsborg 08                                  2.0\n",
      "FC Schalke 04                                 2.0\n",
      "B36 Tórshavn                                  2.0\n",
      "Slovan Bratislava                             2.0\n",
      "Sparta Praha                                  2.0\n",
      "Spartak Trnava                                2.0\n",
      "Sporting CP                                   2.0\n",
      "Standard Liège                                2.0\n",
      "KRC Genk                                      2.0\n",
      "AS Monaco                                     2.0\n",
      "Vardar Skopje                                 2.0\n",
      "Vitória Guimarães                             2.0\n",
      "Wolfsberger AC                                2.0\n",
      "Wolverhampton Wanderers                       2.0\n",
      "AEK Athen                                     2.0\n",
      "Zenit St. Petersburg                          2.0\n",
      "FC Basel                                      2.0\n",
      "Östersunds FK                                 2.0\n",
      "Sturm Graz                                    2.0\n",
      "AS Roma                                       2.0\n",
      "Olimpija Ljubljana                            2.0\n",
      "Olympique Marseille                           2.0\n",
      "Bayern München                                2.0\n",
      "1899 Hoffenheim                               2.0\n",
      "LASK                                          2.0\n",
      "Lokomotiv Moskva                              2.0\n",
      "Malmö FF                                      2.0\n",
      "Bor. Mönchengladbach                          2.0\n",
      "RSC Anderlecht                                2.0\n",
      "Olympiakos Piräus                             2.0\n",
      "Dinamo Zagreb                                 2.0\n",
      "Getafe CF                                     2.0\n",
      "PFC Ludogorets Razgrad                        2.0\n",
      "Paris Saint-Germain                           2.0\n",
      "Burnley FC                                    2.0\n",
      "RB Leipzig                                    2.0\n",
      "RB Salzburg                                   2.0\n",
      "FC København                                  1.0\n",
      "Orduspor                                      1.0\n",
      "Diyarbakirspor                                1.0\n",
      "Hacettepe                                     1.0\n",
      "Yozgatspor                                    1.0\n",
      "Kocaelispor                                   1.0\n",
      "Bandirmaspor                                  1.0\n"
     ]
    },
    {
     "name": "stderr",
     "output_type": "stream",
     "text": [
      "<ipython-input-5-8155b6fd0297>:4: FutureWarning: In a future version of pandas all arguments of DataFrame.drop except for the argument 'labels' will be keyword-only.\n",
      "  vc = vc.drop(\"away\", 1)\n"
     ]
    }
   ],
   "source": [
    "vc = df_tur[['home', 'away']].apply(pd.Series.value_counts)\n",
    "vc = vc.fillna(0)\n",
    "vc[\"home\"] = vc[\"away\"] + vc[\"home\"]\n",
    "vc = vc.drop(\"away\", 1)\n",
    "vc = vc.rename(columns={'home': 'id_count'})\n",
    "vc = vc.sort_values(by='id_count', ascending=False)\n",
    "print(vc.to_string())"
   ]
  },
  {
   "cell_type": "code",
   "execution_count": 6,
   "metadata": {},
   "outputs": [
    {
     "data": {
      "text/html": [
       "<div>\n",
       "<style scoped>\n",
       "    .dataframe tbody tr th:only-of-type {\n",
       "        vertical-align: middle;\n",
       "    }\n",
       "\n",
       "    .dataframe tbody tr th {\n",
       "        vertical-align: top;\n",
       "    }\n",
       "\n",
       "    .dataframe thead th {\n",
       "        text-align: right;\n",
       "    }\n",
       "</style>\n",
       "<table border=\"1\" class=\"dataframe\">\n",
       "  <thead>\n",
       "    <tr style=\"text-align: right;\">\n",
       "      <th></th>\n",
       "      <th>id_count</th>\n",
       "    </tr>\n",
       "  </thead>\n",
       "  <tbody>\n",
       "    <tr>\n",
       "      <th>count</th>\n",
       "      <td>101.000000</td>\n",
       "    </tr>\n",
       "    <tr>\n",
       "      <th>mean</th>\n",
       "      <td>40.178218</td>\n",
       "    </tr>\n",
       "    <tr>\n",
       "      <th>std</th>\n",
       "      <td>48.767283</td>\n",
       "    </tr>\n",
       "    <tr>\n",
       "      <th>min</th>\n",
       "      <td>1.000000</td>\n",
       "    </tr>\n",
       "    <tr>\n",
       "      <th>25%</th>\n",
       "      <td>2.000000</td>\n",
       "    </tr>\n",
       "    <tr>\n",
       "      <th>50%</th>\n",
       "      <td>4.000000</td>\n",
       "    </tr>\n",
       "    <tr>\n",
       "      <th>75%</th>\n",
       "      <td>102.000000</td>\n",
       "    </tr>\n",
       "    <tr>\n",
       "      <th>max</th>\n",
       "      <td>133.000000</td>\n",
       "    </tr>\n",
       "  </tbody>\n",
       "</table>\n",
       "</div>"
      ],
      "text/plain": [
       "         id_count\n",
       "count  101.000000\n",
       "mean    40.178218\n",
       "std     48.767283\n",
       "min      1.000000\n",
       "25%      2.000000\n",
       "50%      4.000000\n",
       "75%    102.000000\n",
       "max    133.000000"
      ]
     },
     "execution_count": 6,
     "metadata": {},
     "output_type": "execute_result"
    }
   ],
   "source": [
    "vc.describe()"
   ]
  },
  {
   "cell_type": "code",
   "execution_count": 7,
   "metadata": {},
   "outputs": [
    {
     "data": {
      "text/plain": [
       "count        2029\n",
       "unique          8\n",
       "top       1. Lig \n",
       "freq          894\n",
       "Name: league, dtype: object"
      ]
     },
     "execution_count": 7,
     "metadata": {},
     "output_type": "execute_result"
    }
   ],
   "source": [
    "df_tur['league'].describe()"
   ]
  },
  {
   "cell_type": "code",
   "execution_count": 8,
   "metadata": {},
   "outputs": [
    {
     "data": {
      "text/plain": [
       "count    2029.000000\n",
       "mean     1590.566289\n",
       "std       155.853836\n",
       "min      1175.000000\n",
       "25%      1477.000000\n",
       "50%      1588.000000\n",
       "75%      1663.000000\n",
       "max      2311.000000\n",
       "Name: home_oelo, dtype: float64"
      ]
     },
     "execution_count": 8,
     "metadata": {},
     "output_type": "execute_result"
    }
   ],
   "source": [
    "df_tur['home_oelo'].describe()"
   ]
  },
  {
   "cell_type": "code",
   "execution_count": 9,
   "metadata": {},
   "outputs": [
    {
     "data": {
      "text/plain": [
       "count    2029.000000\n",
       "mean     1590.436175\n",
       "std       155.942324\n",
       "min      1177.000000\n",
       "25%      1480.000000\n",
       "50%      1590.000000\n",
       "75%      1662.000000\n",
       "max      2312.000000\n",
       "Name: away_oelo, dtype: float64"
      ]
     },
     "execution_count": 9,
     "metadata": {},
     "output_type": "execute_result"
    }
   ],
   "source": [
    "df_tur['away_oelo'].describe()"
   ]
  },
  {
   "cell_type": "code",
   "execution_count": 10,
   "metadata": {},
   "outputs": [
    {
     "data": {
      "text/plain": [
       "count    2029.000000\n",
       "mean        0.130113\n",
       "std       154.659194\n",
       "min      -713.000000\n",
       "25%       -99.000000\n",
       "50%         0.000000\n",
       "75%        97.000000\n",
       "max       715.000000\n",
       "dtype: float64"
      ]
     },
     "execution_count": 10,
     "metadata": {},
     "output_type": "execute_result"
    }
   ],
   "source": [
    "(df_tur['home_oelo']-df_tur['away_oelo']).describe()"
   ]
  },
  {
   "cell_type": "code",
   "execution_count": 12,
   "metadata": {},
   "outputs": [
    {
     "name": "stderr",
     "output_type": "stream",
     "text": [
      "c:\\users\\grotzi\\appdata\\local\\programs\\python\\python38\\lib\\site-packages\\seaborn\\distributions.py:2557: FutureWarning: `distplot` is a deprecated function and will be removed in a future version. Please adapt your code to use either `displot` (a figure-level function with similar flexibility) or `histplot` (an axes-level function for histograms).\n",
      "  warnings.warn(msg, FutureWarning)\n"
     ]
    },
    {
     "data": {
      "image/png": "[encoded data removed]",
      "text/plain": [
       "<Figure size 720x432 with 1 Axes>"
      ]
     },
     "metadata": {},
     "output_type": "display_data"
    }
   ],
   "source": [
    "fig = plt.figure(figsize=(10,6))\n",
    "p = sns.distplot((df_tur['home_oelo']-df_tur['away_oelo']), color='#EEB211',\n",
    "                kde_kws={\"color\": \"k\", \"lw\": 1, \"label\": \"KDE\"},\n",
    "                hist_kws={\"linewidth\": 3,\n",
    "                            \"alpha\": 1, \"color\": '#EEB211'}\n",
    "                )\n",
    "sns.set_style(\"darkgrid\")\n",
    "p.set_xlabel(\"Rating difference $(R_{Home} - R_{Away})$\", fontsize = 14)\n",
    "p.set_ylabel(\"density\", fontsize = 14)\n",
    "plt.show()"
   ]
  },
  {
   "cell_type": "code",
   "execution_count": 13,
   "metadata": {},
   "outputs": [
    {
     "name": "stderr",
     "output_type": "stream",
     "text": [
      "c:\\users\\grotzi\\appdata\\local\\programs\\python\\python38\\lib\\site-packages\\seaborn\\distributions.py:2557: FutureWarning: `distplot` is a deprecated function and will be removed in a future version. Please adapt your code to use either `displot` (a figure-level function with similar flexibility) or `histplot` (an axes-level function for histograms).\n",
      "  warnings.warn(msg, FutureWarning)\n"
     ]
    },
    {
     "data": {
      "image/png": "[encoded data removed]",
      "text/plain": [
       "<Figure size 720x432 with 1 Axes>"
      ]
     },
     "metadata": {},
     "output_type": "display_data"
    }
   ],
   "source": [
    "fig = plt.figure(figsize=(10,6))\n",
    "p = sns.distplot((df_tur['home_oelo']), color='#EEB211',\n",
    "                kde_kws={\"color\": \"k\", \"lw\": 1, \"label\": \"KDE\"},\n",
    "                hist_kws={\"linewidth\": 3,\n",
    "                            \"alpha\": 1, \"color\": '#EEB211',\n",
    "                         }\n",
    "                )\n",
    "sns.set_style(\"darkgrid\")\n",
    "p.set_xlabel(\"$R_{Home}$\", fontsize = 14)\n",
    "p.set_ylabel(\"density\", fontsize = 14)\n",
    "plt.show()"
   ]
  },
  {
   "cell_type": "code",
   "execution_count": 14,
   "metadata": {},
   "outputs": [
    {
     "data": {
      "image/png": "[encoded data removed]",
      "text/plain": [
       "<Figure size 720x432 with 1 Axes>"
      ]
     },
     "metadata": {},
     "output_type": "display_data"
    }
   ],
   "source": [
    "fig = plt.figure(figsize=(10,6))\n",
    "p = sns.histplot(vc['id_count'], color='#EEB211', \n",
    "                 binwidth = 2,\n",
    "                 binrange = [0,140],\n",
    "                 legend = False,\n",
    "                 log_scale=(False,True)\n",
    "                )\n",
    "sns.set_style(\"darkgrid\")\n",
    "p.set_xlabel(\"#games per team\", fontsize = 14)\n",
    "p.set_ylabel(\"count\", fontsize = 14)\n",
    "plt.show()"
   ]
  },
  {
   "cell_type": "code",
   "execution_count": 16,
   "metadata": {},
   "outputs": [],
   "source": [
    "df_tur_c1 = df_tur.drop(df_tur[df_tur['home_oelo']<1663].index)\n",
    "df_tur_c2 = df_tur.drop(df_tur[df_tur['home_oelo']>1477].index)"
   ]
  },
  {
   "cell_type": "code",
   "execution_count": 17,
   "metadata": {},
   "outputs": [
    {
     "name": "stderr",
     "output_type": "stream",
     "text": [
      "c:\\users\\grotzi\\appdata\\local\\programs\\python\\python38\\lib\\site-packages\\seaborn\\distributions.py:2557: FutureWarning: `distplot` is a deprecated function and will be removed in a future version. Please adapt your code to use either `displot` (a figure-level function with similar flexibility) or `histplot` (an axes-level function for histograms).\n",
      "  warnings.warn(msg, FutureWarning)\n"
     ]
    },
    {
     "data": {
      "image/png": "[encoded data removed]",
      "text/plain": [
       "<Figure size 432x288 with 1 Axes>"
      ]
     },
     "metadata": {},
     "output_type": "display_data"
    }
   ],
   "source": [
    "fig = plt.figure(figsize=(6,4))\n",
    "p = sns.distplot((df_tur_c1['home_oelo']-df_tur_c1['away_oelo']), color='#EEB211',\n",
    "                kde_kws={\"color\": \"k\", \"lw\": 1, \"label\": \"KDE\"},\n",
    "                hist_kws={\"linewidth\": 3,\n",
    "                            \"alpha\": 1, \"color\": '#EEB211'},\n",
    "                )\n",
    "sns.set_style(\"darkgrid\")\n",
    "plt.xlim(-1000, 2000)\n",
    "p.set_xlabel(\"Rating Difference $(R_{Home} - R_{Away})$, for $R_{Home} ≥ 1663$\", fontsize = 14)\n",
    "p.set_ylabel(\"density\", fontsize = 14)\n",
    "plt.show()"
   ]
  },
  {
   "cell_type": "code",
   "execution_count": 18,
   "metadata": {},
   "outputs": [
    {
     "name": "stderr",
     "output_type": "stream",
     "text": [
      "c:\\users\\grotzi\\appdata\\local\\programs\\python\\python38\\lib\\site-packages\\seaborn\\distributions.py:2557: FutureWarning: `distplot` is a deprecated function and will be removed in a future version. Please adapt your code to use either `displot` (a figure-level function with similar flexibility) or `histplot` (an axes-level function for histograms).\n",
      "  warnings.warn(msg, FutureWarning)\n"
     ]
    },
    {
     "data": {
      "image/png": "[encoded data removed]",
      "text/plain": [
       "<Figure size 432x288 with 1 Axes>"
      ]
     },
     "metadata": {},
     "output_type": "display_data"
    }
   ],
   "source": [
    "fig = plt.figure(figsize=(6,4))\n",
    "p = sns.distplot((df_tur_c2['home_oelo']-df_tur_c2['away_oelo']), color='#EEB211',\n",
    "                kde_kws={\"color\": \"k\", \"lw\": 1, \"label\": \"KDE\"},\n",
    "                hist_kws={\"linewidth\": 3,\n",
    "                            \"alpha\": 1, \"color\": '#EEB211'},\n",
    "                )\n",
    "sns.set_style(\"darkgrid\")\n",
    "plt.xlim(-2000, 1000)\n",
    "p.set_xlabel(\"Rating Difference $(R_{Home} - R_{Away})$, for $R_{Home} ≤ 1477$\", fontsize = 14)\n",
    "p.set_ylabel(\"density\", fontsize = 14)\n",
    "plt.show()"
   ]
  },
  {
   "cell_type": "code",
   "execution_count": null,
   "metadata": {},
   "outputs": [],
   "source": []
  },
  {
   "cell_type": "code",
   "execution_count": null,
   "metadata": {},
   "outputs": [],
   "source": []
  }
 ],
 "metadata": {
  "kernelspec": {
   "display_name": "Python 3",
   "language": "python",
   "name": "python3"
  },
  "language_info": {
   "codemirror_mode": {
    "name": "ipython",
    "version": 3
   },
   "file_extension": ".py",
   "mimetype": "text/x-python",
   "name": "python",
   "nbconvert_exporter": "python",
   "pygments_lexer": "ipython3",
   "version": "3.8.0"
  }
 },
 "nbformat": 4,
 "nbformat_minor": 4
}
